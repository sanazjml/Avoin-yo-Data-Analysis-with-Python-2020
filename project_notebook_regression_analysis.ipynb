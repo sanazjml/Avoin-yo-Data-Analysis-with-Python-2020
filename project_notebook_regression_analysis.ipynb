{
 "cells": [
  {
   "cell_type": "markdown",
   "metadata": {},
   "source": [
    "# Linear regression"
   ]
  },
  {
   "cell_type": "markdown",
   "metadata": {},
   "source": [
    "Import all the modules you will need in this notebook here:"
   ]
  },
  {
   "cell_type": "code",
   "execution_count": 20,
   "metadata": {},
   "outputs": [],
   "source": [
    "# exercise 0\n",
    "import numpy as np\n",
    "import pandas as pd\n",
    "import matplotlib.pyplot as plt\n",
    "import statsmodels\n",
    "import statsmodels.api as sm \n",
    "import statsmodels.formula.api as smf\n",
    "from statsmodels.graphics.regressionplots import abline_plot"
   ]
  },
  {
   "cell_type": "markdown",
   "metadata": {},
   "source": [
    "We continue analysing the `fram` heart disease data.\n",
    "\n",
    "First load the data, use the name `fram` for the DataFrame variable. Make sure that in the data you loaded the column and row headers are in place. Checkout the summary of the variables using the `describe` method."
   ]
  },
  {
   "cell_type": "code",
   "execution_count": 21,
   "metadata": {},
   "outputs": [
    {
     "data": {
      "text/html": [
       "<div>\n",
       "<style scoped>\n",
       "    .dataframe tbody tr th:only-of-type {\n",
       "        vertical-align: middle;\n",
       "    }\n",
       "\n",
       "    .dataframe tbody tr th {\n",
       "        vertical-align: top;\n",
       "    }\n",
       "\n",
       "    .dataframe thead th {\n",
       "        text-align: right;\n",
       "    }\n",
       "</style>\n",
       "<table border=\"1\" class=\"dataframe\">\n",
       "  <thead>\n",
       "    <tr style=\"text-align: right;\">\n",
       "      <th></th>\n",
       "      <th>ID</th>\n",
       "      <th>AGE</th>\n",
       "      <th>FRW</th>\n",
       "      <th>SBP</th>\n",
       "      <th>SBP10</th>\n",
       "      <th>DBP</th>\n",
       "      <th>CHOL</th>\n",
       "      <th>CIG</th>\n",
       "      <th>CHD</th>\n",
       "      <th>DEATH</th>\n",
       "      <th>YRS_DTH</th>\n",
       "    </tr>\n",
       "  </thead>\n",
       "  <tbody>\n",
       "    <tr>\n",
       "      <th>count</th>\n",
       "      <td>1394.000000</td>\n",
       "      <td>1394.000000</td>\n",
       "      <td>1394.000000</td>\n",
       "      <td>1394.000000</td>\n",
       "      <td>767.000000</td>\n",
       "      <td>1394.000000</td>\n",
       "      <td>1394.000000</td>\n",
       "      <td>1394.000000</td>\n",
       "      <td>1394.000000</td>\n",
       "      <td>1394.000000</td>\n",
       "      <td>1394.000000</td>\n",
       "    </tr>\n",
       "    <tr>\n",
       "      <th>mean</th>\n",
       "      <td>4737.184362</td>\n",
       "      <td>52.431133</td>\n",
       "      <td>105.365136</td>\n",
       "      <td>148.086083</td>\n",
       "      <td>148.040417</td>\n",
       "      <td>90.135581</td>\n",
       "      <td>234.644907</td>\n",
       "      <td>8.029412</td>\n",
       "      <td>1.187948</td>\n",
       "      <td>1.700861</td>\n",
       "      <td>16.219512</td>\n",
       "    </tr>\n",
       "    <tr>\n",
       "      <th>std</th>\n",
       "      <td>1073.406896</td>\n",
       "      <td>4.781507</td>\n",
       "      <td>17.752489</td>\n",
       "      <td>28.022062</td>\n",
       "      <td>25.706664</td>\n",
       "      <td>14.226235</td>\n",
       "      <td>46.303822</td>\n",
       "      <td>11.584138</td>\n",
       "      <td>2.615976</td>\n",
       "      <td>3.203132</td>\n",
       "      <td>3.921413</td>\n",
       "    </tr>\n",
       "    <tr>\n",
       "      <th>min</th>\n",
       "      <td>1070.000000</td>\n",
       "      <td>45.000000</td>\n",
       "      <td>52.000000</td>\n",
       "      <td>90.000000</td>\n",
       "      <td>94.000000</td>\n",
       "      <td>50.000000</td>\n",
       "      <td>96.000000</td>\n",
       "      <td>0.000000</td>\n",
       "      <td>0.000000</td>\n",
       "      <td>0.000000</td>\n",
       "      <td>1.000000</td>\n",
       "    </tr>\n",
       "    <tr>\n",
       "      <th>25%</th>\n",
       "      <td>3890.250000</td>\n",
       "      <td>48.000000</td>\n",
       "      <td>94.000000</td>\n",
       "      <td>130.000000</td>\n",
       "      <td>130.000000</td>\n",
       "      <td>80.000000</td>\n",
       "      <td>200.000000</td>\n",
       "      <td>0.000000</td>\n",
       "      <td>0.000000</td>\n",
       "      <td>0.000000</td>\n",
       "      <td>18.000000</td>\n",
       "    </tr>\n",
       "    <tr>\n",
       "      <th>50%</th>\n",
       "      <td>4821.000000</td>\n",
       "      <td>52.000000</td>\n",
       "      <td>103.000000</td>\n",
       "      <td>142.000000</td>\n",
       "      <td>145.000000</td>\n",
       "      <td>90.000000</td>\n",
       "      <td>230.000000</td>\n",
       "      <td>0.000000</td>\n",
       "      <td>0.000000</td>\n",
       "      <td>0.000000</td>\n",
       "      <td>18.000000</td>\n",
       "    </tr>\n",
       "    <tr>\n",
       "      <th>75%</th>\n",
       "      <td>5641.750000</td>\n",
       "      <td>56.000000</td>\n",
       "      <td>114.000000</td>\n",
       "      <td>160.000000</td>\n",
       "      <td>160.000000</td>\n",
       "      <td>98.000000</td>\n",
       "      <td>264.000000</td>\n",
       "      <td>20.000000</td>\n",
       "      <td>0.000000</td>\n",
       "      <td>0.000000</td>\n",
       "      <td>18.000000</td>\n",
       "    </tr>\n",
       "    <tr>\n",
       "      <th>max</th>\n",
       "      <td>6442.000000</td>\n",
       "      <td>62.000000</td>\n",
       "      <td>222.000000</td>\n",
       "      <td>300.000000</td>\n",
       "      <td>264.000000</td>\n",
       "      <td>160.000000</td>\n",
       "      <td>430.000000</td>\n",
       "      <td>60.000000</td>\n",
       "      <td>10.000000</td>\n",
       "      <td>10.000000</td>\n",
       "      <td>18.000000</td>\n",
       "    </tr>\n",
       "  </tbody>\n",
       "</table>\n",
       "</div>"
      ],
      "text/plain": [
       "                ID          AGE          FRW          SBP       SBP10  \\\n",
       "count  1394.000000  1394.000000  1394.000000  1394.000000  767.000000   \n",
       "mean   4737.184362    52.431133   105.365136   148.086083  148.040417   \n",
       "std    1073.406896     4.781507    17.752489    28.022062   25.706664   \n",
       "min    1070.000000    45.000000    52.000000    90.000000   94.000000   \n",
       "25%    3890.250000    48.000000    94.000000   130.000000  130.000000   \n",
       "50%    4821.000000    52.000000   103.000000   142.000000  145.000000   \n",
       "75%    5641.750000    56.000000   114.000000   160.000000  160.000000   \n",
       "max    6442.000000    62.000000   222.000000   300.000000  264.000000   \n",
       "\n",
       "               DBP         CHOL          CIG          CHD        DEATH  \\\n",
       "count  1394.000000  1394.000000  1394.000000  1394.000000  1394.000000   \n",
       "mean     90.135581   234.644907     8.029412     1.187948     1.700861   \n",
       "std      14.226235    46.303822    11.584138     2.615976     3.203132   \n",
       "min      50.000000    96.000000     0.000000     0.000000     0.000000   \n",
       "25%      80.000000   200.000000     0.000000     0.000000     0.000000   \n",
       "50%      90.000000   230.000000     0.000000     0.000000     0.000000   \n",
       "75%      98.000000   264.000000    20.000000     0.000000     0.000000   \n",
       "max     160.000000   430.000000    60.000000    10.000000    10.000000   \n",
       "\n",
       "           YRS_DTH  \n",
       "count  1394.000000  \n",
       "mean     16.219512  \n",
       "std       3.921413  \n",
       "min       1.000000  \n",
       "25%      18.000000  \n",
       "50%      18.000000  \n",
       "75%      18.000000  \n",
       "max      18.000000  "
      ]
     },
     "execution_count": 21,
     "metadata": {},
     "output_type": "execute_result"
    }
   ],
   "source": [
    "# exercise 1\n",
    "def get_path(filename):\n",
    "    import sys\n",
    "    import os\n",
    "    prog_name = sys.argv[0]\n",
    "    if os.path.basename(prog_name) == \"__main__.py\":   # Running under TMC\n",
    "        return os.path.join(os.path.dirname(prog_name), \"..\", \"src\", filename)\n",
    "    else:\n",
    "        return filename\n",
    "    \n",
    "#fram = pd.read_csv(\"src/fram.txt\", sep=\"\\t\") run this if next does not work    \n",
    "fram = pd.read_csv(\"fram.txt\", sep=\"\\t\")\n",
    "fram.describe()"
   ]
  },
  {
   "cell_type": "markdown",
   "metadata": {},
   "source": [
    "Create function `rescale` that takes a Series as parameter. It should center the data and normalize it by dividing\n",
    "by 2$\\sigma$, where $\\sigma$ is the standard deviation. Return the rescaled Series."
   ]
  },
  {
   "cell_type": "code",
   "execution_count": 22,
   "metadata": {},
   "outputs": [],
   "source": [
    "# exercise 2\n",
    "def rescale(s):\n",
    "    mean = s.mean()\n",
    "    std_dev = s.std()\n",
    "    #center data to 0\n",
    "    s = s-mean\n",
    "    #normalize data \n",
    "    s = s/(2*std_dev)\n",
    "    return s"
   ]
  },
  {
   "cell_type": "markdown",
   "metadata": {},
   "source": [
    "Add to the DataFrame the scaled versions of all the continuous variables (with function `rescale`). Add small letter `s` in front of the original variable name to get the name of the scaled variable. For instance, `AGE` -> `sAGE`."
   ]
  },
  {
   "cell_type": "code",
   "execution_count": 23,
   "metadata": {},
   "outputs": [
    {
     "data": {
      "text/html": [
       "<div>\n",
       "<style scoped>\n",
       "    .dataframe tbody tr th:only-of-type {\n",
       "        vertical-align: middle;\n",
       "    }\n",
       "\n",
       "    .dataframe tbody tr th {\n",
       "        vertical-align: top;\n",
       "    }\n",
       "\n",
       "    .dataframe thead th {\n",
       "        text-align: right;\n",
       "    }\n",
       "</style>\n",
       "<table border=\"1\" class=\"dataframe\">\n",
       "  <thead>\n",
       "    <tr style=\"text-align: right;\">\n",
       "      <th></th>\n",
       "      <th>ID</th>\n",
       "      <th>SEX</th>\n",
       "      <th>AGE</th>\n",
       "      <th>FRW</th>\n",
       "      <th>SBP</th>\n",
       "      <th>SBP10</th>\n",
       "      <th>DBP</th>\n",
       "      <th>CHOL</th>\n",
       "      <th>CIG</th>\n",
       "      <th>CHD</th>\n",
       "      <th>...</th>\n",
       "      <th>sAGE</th>\n",
       "      <th>sFRW</th>\n",
       "      <th>sSBP</th>\n",
       "      <th>sSBP10</th>\n",
       "      <th>sDBP</th>\n",
       "      <th>sCHOL</th>\n",
       "      <th>sCIG</th>\n",
       "      <th>sCHD</th>\n",
       "      <th>sDEATH</th>\n",
       "      <th>sYRS_DTH</th>\n",
       "    </tr>\n",
       "  </thead>\n",
       "  <tbody>\n",
       "    <tr>\n",
       "      <th>0</th>\n",
       "      <td>4988</td>\n",
       "      <td>female</td>\n",
       "      <td>57</td>\n",
       "      <td>135</td>\n",
       "      <td>186</td>\n",
       "      <td>NaN</td>\n",
       "      <td>120</td>\n",
       "      <td>150</td>\n",
       "      <td>0</td>\n",
       "      <td>1</td>\n",
       "      <td>...</td>\n",
       "      <td>0.477764</td>\n",
       "      <td>0.834668</td>\n",
       "      <td>0.676501</td>\n",
       "      <td>NaN</td>\n",
       "      <td>1.049625</td>\n",
       "      <td>-0.914016</td>\n",
       "      <td>-0.346569</td>\n",
       "      <td>-0.035923</td>\n",
       "      <td>0.827181</td>\n",
       "      <td>-0.665514</td>\n",
       "    </tr>\n",
       "    <tr>\n",
       "      <th>1</th>\n",
       "      <td>3001</td>\n",
       "      <td>female</td>\n",
       "      <td>60</td>\n",
       "      <td>123</td>\n",
       "      <td>165</td>\n",
       "      <td>NaN</td>\n",
       "      <td>100</td>\n",
       "      <td>167</td>\n",
       "      <td>25</td>\n",
       "      <td>0</td>\n",
       "      <td>...</td>\n",
       "      <td>0.791473</td>\n",
       "      <td>0.496687</td>\n",
       "      <td>0.301796</td>\n",
       "      <td>NaN</td>\n",
       "      <td>0.346698</td>\n",
       "      <td>-0.730446</td>\n",
       "      <td>0.732493</td>\n",
       "      <td>-0.227056</td>\n",
       "      <td>1.295472</td>\n",
       "      <td>0.099516</td>\n",
       "    </tr>\n",
       "    <tr>\n",
       "      <th>2</th>\n",
       "      <td>5079</td>\n",
       "      <td>female</td>\n",
       "      <td>54</td>\n",
       "      <td>115</td>\n",
       "      <td>140</td>\n",
       "      <td>NaN</td>\n",
       "      <td>90</td>\n",
       "      <td>213</td>\n",
       "      <td>5</td>\n",
       "      <td>0</td>\n",
       "      <td>...</td>\n",
       "      <td>0.164056</td>\n",
       "      <td>0.271367</td>\n",
       "      <td>-0.144281</td>\n",
       "      <td>NaN</td>\n",
       "      <td>-0.004765</td>\n",
       "      <td>-0.233727</td>\n",
       "      <td>-0.130757</td>\n",
       "      <td>-0.227056</td>\n",
       "      <td>0.983278</td>\n",
       "      <td>-0.410504</td>\n",
       "    </tr>\n",
       "    <tr>\n",
       "      <th>3</th>\n",
       "      <td>5162</td>\n",
       "      <td>female</td>\n",
       "      <td>52</td>\n",
       "      <td>102</td>\n",
       "      <td>170</td>\n",
       "      <td>NaN</td>\n",
       "      <td>104</td>\n",
       "      <td>280</td>\n",
       "      <td>15</td>\n",
       "      <td>0</td>\n",
       "      <td>...</td>\n",
       "      <td>-0.045083</td>\n",
       "      <td>-0.094779</td>\n",
       "      <td>0.391012</td>\n",
       "      <td>NaN</td>\n",
       "      <td>0.487283</td>\n",
       "      <td>0.489755</td>\n",
       "      <td>0.300868</td>\n",
       "      <td>-0.227056</td>\n",
       "      <td>0.827181</td>\n",
       "      <td>-0.665514</td>\n",
       "    </tr>\n",
       "    <tr>\n",
       "      <th>4</th>\n",
       "      <td>4672</td>\n",
       "      <td>female</td>\n",
       "      <td>45</td>\n",
       "      <td>99</td>\n",
       "      <td>185</td>\n",
       "      <td>NaN</td>\n",
       "      <td>105</td>\n",
       "      <td>326</td>\n",
       "      <td>20</td>\n",
       "      <td>0</td>\n",
       "      <td>...</td>\n",
       "      <td>-0.777070</td>\n",
       "      <td>-0.179274</td>\n",
       "      <td>0.658658</td>\n",
       "      <td>NaN</td>\n",
       "      <td>0.522430</td>\n",
       "      <td>0.986475</td>\n",
       "      <td>0.516680</td>\n",
       "      <td>-0.227056</td>\n",
       "      <td>1.295472</td>\n",
       "      <td>0.099516</td>\n",
       "    </tr>\n",
       "  </tbody>\n",
       "</table>\n",
       "<p>5 rows × 24 columns</p>\n",
       "</div>"
      ],
      "text/plain": [
       "     ID     SEX  AGE  FRW  SBP  SBP10  DBP  CHOL  CIG  CHD  ...      sAGE  \\\n",
       "0  4988  female   57  135  186    NaN  120   150    0    1  ...  0.477764   \n",
       "1  3001  female   60  123  165    NaN  100   167   25    0  ...  0.791473   \n",
       "2  5079  female   54  115  140    NaN   90   213    5    0  ...  0.164056   \n",
       "3  5162  female   52  102  170    NaN  104   280   15    0  ... -0.045083   \n",
       "4  4672  female   45   99  185    NaN  105   326   20    0  ... -0.777070   \n",
       "\n",
       "       sFRW      sSBP sSBP10      sDBP     sCHOL      sCIG      sCHD  \\\n",
       "0  0.834668  0.676501    NaN  1.049625 -0.914016 -0.346569 -0.035923   \n",
       "1  0.496687  0.301796    NaN  0.346698 -0.730446  0.732493 -0.227056   \n",
       "2  0.271367 -0.144281    NaN -0.004765 -0.233727 -0.130757 -0.227056   \n",
       "3 -0.094779  0.391012    NaN  0.487283  0.489755  0.300868 -0.227056   \n",
       "4 -0.179274  0.658658    NaN  0.522430  0.986475  0.516680 -0.227056   \n",
       "\n",
       "     sDEATH  sYRS_DTH  \n",
       "0  0.827181 -0.665514  \n",
       "1  1.295472  0.099516  \n",
       "2  0.983278 -0.410504  \n",
       "3  0.827181 -0.665514  \n",
       "4  1.295472  0.099516  \n",
       "\n",
       "[5 rows x 24 columns]"
      ]
     },
     "execution_count": 23,
     "metadata": {},
     "output_type": "execute_result"
    }
   ],
   "source": [
    "# exercise 3\n",
    "for c in fram:\n",
    "    if (fram[c].dtype != object) & (c != \"ID\"):\n",
    "        fram[\"s\" + c] = rescale(fram[c])\n",
    "fram.head()"
   ]
  },
  {
   "cell_type": "markdown",
   "metadata": {},
   "source": [
    "Form a model that predicts systolic blood pressure using weight, gender, and cholesterol level as explanatory variables. Store the fitted model in variable named `fit`."
   ]
  },
  {
   "cell_type": "code",
   "execution_count": 24,
   "metadata": {},
   "outputs": [
    {
     "name": "stdout",
     "output_type": "stream",
     "text": [
      "                            OLS Regression Results                            \n",
      "==============================================================================\n",
      "Dep. Variable:                    SBP   R-squared:                       0.125\n",
      "Model:                            OLS   Adj. R-squared:                  0.123\n",
      "Method:                 Least Squares   F-statistic:                     66.37\n",
      "Date:                Fri, 09 Apr 2021   Prob (F-statistic):           4.13e-40\n",
      "Time:                        09:51:49   Log-Likelihood:                -6530.4\n",
      "No. Observations:                1394   AIC:                         1.307e+04\n",
      "Df Residuals:                    1390   BIC:                         1.309e+04\n",
      "Df Model:                           3                                         \n",
      "Covariance Type:            nonrobust                                         \n",
      "===============================================================================\n",
      "                  coef    std err          t      P>|t|      [0.025      0.975]\n",
      "-------------------------------------------------------------------------------\n",
      "Intercept     150.0199      0.985    152.336      0.000     148.088     151.952\n",
      "SEX[T.male]    -4.0659      1.451     -2.803      0.005      -6.912      -1.220\n",
      "sFRW           17.7205      1.426     12.431      0.000      14.924      20.517\n",
      "sCHOL           4.9169      1.431      3.436      0.001       2.110       7.724\n",
      "==============================================================================\n",
      "Omnibus:                      327.612   Durbin-Watson:                   1.774\n",
      "Prob(Omnibus):                  0.000   Jarque-Bera (JB):              843.676\n",
      "Skew:                           1.237   Prob(JB):                    6.28e-184\n",
      "Kurtosis:                       5.899   Cond. No.                         2.79\n",
      "==============================================================================\n",
      "\n",
      "Warnings:\n",
      "[1] Standard Errors assume that the covariance matrix of the errors is correctly specified.\n"
     ]
    }
   ],
   "source": [
    "# exercise 4\n",
    "fit=smf.ols('SBP ~ sFRW + SEX + sCHOL', data=fram).fit()\n",
    "print(fit.summary())"
   ]
  },
  {
   "cell_type": "markdown",
   "metadata": {},
   "source": [
    "Add the variable AGE to the model and inspect the estimates of the coefficients using the `summary` method of the fitted model. Again use the name `fit` for the fitted model. (From now on assume that we always use the name `fit` for the variable of the fitted model.)"
   ]
  },
  {
   "cell_type": "code",
   "execution_count": 25,
   "metadata": {},
   "outputs": [
    {
     "name": "stdout",
     "output_type": "stream",
     "text": [
      "                            OLS Regression Results                            \n",
      "==============================================================================\n",
      "Dep. Variable:                    SBP   R-squared:                       0.146\n",
      "Model:                            OLS   Adj. R-squared:                  0.144\n",
      "Method:                 Least Squares   F-statistic:                     59.39\n",
      "Date:                Fri, 09 Apr 2021   Prob (F-statistic):           2.44e-46\n",
      "Time:                        09:51:50   Log-Likelihood:                -6513.6\n",
      "No. Observations:                1394   AIC:                         1.304e+04\n",
      "Df Residuals:                    1389   BIC:                         1.306e+04\n",
      "Df Model:                           4                                         \n",
      "Covariance Type:            nonrobust                                         \n",
      "===============================================================================\n",
      "                  coef    std err          t      P>|t|      [0.025      0.975]\n",
      "-------------------------------------------------------------------------------\n",
      "Intercept     150.1695      0.974    154.221      0.000     148.259     152.080\n",
      "SEX[T.male]    -4.3805      1.435     -3.053      0.002      -7.195      -1.566\n",
      "sFRW           16.9771      1.415     11.999      0.000      14.202      19.753\n",
      "sCHOL           4.2696      1.419      3.009      0.003       1.486       7.053\n",
      "sAGE            8.1332      1.400      5.810      0.000       5.387      10.879\n",
      "==============================================================================\n",
      "Omnibus:                      321.087   Durbin-Watson:                   1.807\n",
      "Prob(Omnibus):                  0.000   Jarque-Bera (JB):              840.955\n",
      "Skew:                           1.206   Prob(JB):                    2.45e-183\n",
      "Kurtosis:                       5.944   Cond. No.                         2.82\n",
      "==============================================================================\n",
      "\n",
      "Warnings:\n",
      "[1] Standard Errors assume that the covariance matrix of the errors is correctly specified.\n"
     ]
    }
   ],
   "source": [
    "# exercise 5\n",
    "fit = smf.ols('SBP ~ sFRW + SEX + sCHOL + sAGE', data=fram).fit()\n",
    "print(fit.summary())"
   ]
  },
  {
   "cell_type": "markdown",
   "metadata": {},
   "source": [
    "How much does the inclusion of age increase the explanatory power of the model? Which variables explain the variance of the target variable most?\n",
    "\n",
    "***\n",
    "\n",
    "Inclusion of age increases the explanatory power of the model (R-squared) by 2,1%.\n",
    "The variance is being explained by weight mostly, and then by age.\n",
    "\n",
    "***"
   ]
  },
  {
   "cell_type": "markdown",
   "metadata": {},
   "source": [
    "Try to add to the model all the interactions with other variables. "
   ]
  },
  {
   "cell_type": "code",
   "execution_count": 26,
   "metadata": {},
   "outputs": [
    {
     "name": "stdout",
     "output_type": "stream",
     "text": [
      "                            OLS Regression Results                            \n",
      "==============================================================================\n",
      "Dep. Variable:                    SBP   R-squared:                       0.151\n",
      "Model:                            OLS   Adj. R-squared:                  0.144\n",
      "Method:                 Least Squares   F-statistic:                     24.52\n",
      "Date:                Fri, 09 Apr 2021   Prob (F-statistic):           4.92e-43\n",
      "Time:                        09:51:51   Log-Likelihood:                -6509.9\n",
      "No. Observations:                1394   AIC:                         1.304e+04\n",
      "Df Residuals:                    1383   BIC:                         1.310e+04\n",
      "Df Model:                          10                                         \n",
      "Covariance Type:            nonrobust                                         \n",
      "=====================================================================================\n",
      "                        coef    std err          t      P>|t|      [0.025      0.975]\n",
      "-------------------------------------------------------------------------------------\n",
      "Intercept           150.5439      1.001    150.355      0.000     148.580     152.508\n",
      "SEX[T.male]          -4.7309      1.451     -3.261      0.001      -7.577      -1.885\n",
      "sFRW                 16.6450      1.723      9.660      0.000      13.265      20.025\n",
      "sFRW:SEX[T.male]      1.6673      3.088      0.540      0.589      -4.390       7.725\n",
      "sCHOL                 3.6181      1.878      1.926      0.054      -0.066       7.302\n",
      "sCHOL:SEX[T.male]     1.0231      2.933      0.349      0.727      -4.730       6.776\n",
      "sCHOL:sFRW            4.9729      2.718      1.829      0.068      -0.359      10.305\n",
      "sAGE                 10.2189      2.003      5.101      0.000       6.289      14.149\n",
      "sAGE:SEX[T.male]     -4.2923      2.886     -1.488      0.137      -9.953       1.368\n",
      "sAGE:sFRW            -2.0866      2.803     -0.744      0.457      -7.585       3.412\n",
      "sAGE:sCHOL           -4.7564      3.044     -1.563      0.118     -10.728       1.215\n",
      "==============================================================================\n",
      "Omnibus:                      313.112   Durbin-Watson:                   1.798\n",
      "Prob(Omnibus):                  0.000   Jarque-Bera (JB):              802.290\n",
      "Skew:                           1.185   Prob(JB):                    6.10e-175\n",
      "Kurtosis:                       5.863   Cond. No.                         6.02\n",
      "==============================================================================\n",
      "\n",
      "Warnings:\n",
      "[1] Standard Errors assume that the covariance matrix of the errors is correctly specified.\n"
     ]
    }
   ],
   "source": [
    "# exercise 6\n",
    "fit = smf.ols('SBP ~ sFRW + SEX + sFRW:SEX + sCHOL + sCHOL:sFRW + sCHOL:SEX + sAGE + sAGE:sFRW + sAGE:SEX + sAGE:sCHOL', data=fram).fit()\n",
    "print(fit.summary())"
   ]
  },
  {
   "cell_type": "markdown",
   "metadata": {},
   "source": [
    "Then visualize the model as the function of weight for the youngest (sAGE=-1.0), middle aged (sAGE=0.0), and oldest (sAGE=1.0) women while assuming the background variables to be centered. Remember to consider the changes in the intercept and in the regression coefficient caused by age. Visualize both the data points and the fitted lines."
   ]
  },
  {
   "cell_type": "code",
   "execution_count": 27,
   "metadata": {},
   "outputs": [
    {
     "data": {
      "image/png": "[encoded data removed]",
      "text/plain": [
       "<Figure size 432x288 with 1 Axes>"
      ]
     },
     "metadata": {
      "needs_background": "light"
     },
     "output_type": "display_data"
    }
   ],
   "source": [
    "# exercise 7\n",
    "p = fit.params\n",
    "fram[fram.SEX==\"female\"].plot.scatter(\"sFRW\", \"SBP\")\n",
    "\n",
    "abline_plot(intercept=p.Intercept - p[\"sAGE\"], slope=p.sFRW - p[\"sAGE:sFRW\"], ax=plt.gca(), label=\"Young\", color=\"magenta\")\n",
    "abline_plot(intercept=p.Intercept, slope=p.sFRW, ax=plt.gca(), color=\"orange\", label=\"Middle\")\n",
    "abline_plot(intercept=p.Intercept + p[\"sAGE\"], slope=p.sFRW + p[\"sAGE:sFRW\"], ax=plt.gca(), label=\"Old\", color=\"blue\")\n",
    "plt.legend();"
   ]
  },
  {
   "cell_type": "markdown",
   "metadata": {},
   "source": [
    "How does the dependence of blood pressure on weight change as a person gets older?\n",
    "***\n",
    "\n",
    "The dependence of blood pressure on weight gets lower as the person gets older. \n",
    "\n",
    "***"
   ]
  },
  {
   "cell_type": "markdown",
   "metadata": {},
   "source": [
    "### Even more accurate model\n",
    "\n",
    "Include the background variable `sCIG` from the data and its interactions. Visualize the model for systolic blood pressure as the function of the most important explanatory variable. Visualize separate lines for the small (-1.0), average (0.0), and large (1.0) values of `sCHOL`. Other variables can be assumed to be at their mean value."
   ]
  },
  {
   "cell_type": "code",
   "execution_count": 28,
   "metadata": {},
   "outputs": [
    {
     "name": "stdout",
     "output_type": "stream",
     "text": [
      "                            OLS Regression Results                            \n",
      "==============================================================================\n",
      "Dep. Variable:                    SBP   R-squared:                       0.152\n",
      "Model:                            OLS   Adj. R-squared:                  0.143\n",
      "Method:                 Least Squares   F-statistic:                     16.50\n",
      "Date:                Fri, 09 Apr 2021   Prob (F-statistic):           2.99e-40\n",
      "Time:                        09:51:52   Log-Likelihood:                -6508.6\n",
      "No. Observations:                1394   AIC:                         1.305e+04\n",
      "Df Residuals:                    1378   BIC:                         1.313e+04\n",
      "Df Model:                          15                                         \n",
      "Covariance Type:            nonrobust                                         \n",
      "=====================================================================================\n",
      "                        coef    std err          t      P>|t|      [0.025      0.975]\n",
      "-------------------------------------------------------------------------------------\n",
      "Intercept           151.3182      1.160    130.456      0.000     149.043     153.594\n",
      "SEX[T.male]          -5.3834      1.598     -3.368      0.001      -8.519      -2.248\n",
      "sFRW                 17.6415      1.866      9.455      0.000      13.981      21.302\n",
      "sFRW:SEX[T.male]     -0.1140      3.441     -0.033      0.974      -6.865       6.637\n",
      "sCHOL                 3.2957      1.965      1.677      0.094      -0.559       7.151\n",
      "sCHOL:SEX[T.male]     1.4369      3.142      0.457      0.648      -4.727       7.600\n",
      "sCHOL:sFRW            4.8912      2.735      1.788      0.074      -0.475      10.257\n",
      "sAGE                 10.3615      2.119      4.890      0.000       6.205      14.518\n",
      "sAGE:SEX[T.male]     -4.4248      3.179     -1.392      0.164     -10.661       1.811\n",
      "sAGE:sFRW            -1.8501      2.848     -0.650      0.516      -7.437       3.737\n",
      "sAGE:sCHOL           -4.8509      3.091     -1.569      0.117     -10.914       1.212\n",
      "sCIG                  3.7733      3.106      1.215      0.225      -2.319       9.865\n",
      "sCIG:SEX[T.male]     -3.9094      3.599     -1.086      0.278     -10.970       3.151\n",
      "sCIG:sFRW             3.6765      3.373      1.090      0.276      -2.941      10.294\n",
      "sCIG:sCHOL           -1.6344      3.368     -0.485      0.628      -8.242       4.973\n",
      "sCIG:sAGE            -0.3247      3.143     -0.103      0.918      -6.490       5.840\n",
      "==============================================================================\n",
      "Omnibus:                      303.518   Durbin-Watson:                   1.802\n",
      "Prob(Omnibus):                  0.000   Jarque-Bera (JB):              750.095\n",
      "Skew:                           1.164   Prob(JB):                    1.32e-163\n",
      "Kurtosis:                       5.738   Cond. No.                         7.93\n",
      "==============================================================================\n",
      "\n",
      "Warnings:\n",
      "[1] Standard Errors assume that the covariance matrix of the errors is correctly specified.\n"
     ]
    },
    {
     "data": {
      "image/png": "[encoded data removed]",
      "text/plain": [
       "<Figure size 432x288 with 1 Axes>"
      ]
     },
     "metadata": {
      "needs_background": "light"
     },
     "output_type": "display_data"
    }
   ],
   "source": [
    "# exercise 8\n",
    "\n",
    "fit = smf.ols('SBP ~ sFRW + SEX + sFRW:SEX + sCHOL + sCHOL:sFRW + sCHOL:SEX + sAGE + sAGE:sFRW + sAGE:SEX + sAGE:sCHOL + sCIG + sCIG:sFRW + sCIG:SEX + sCIG:sCHOL + sCIG:sAGE', data=fram).fit()\n",
    "print(fit.summary())\n",
    "\n",
    "p = fit.params\n",
    "fram.plot.scatter(\"sFRW\", \"SBP\")\n",
    "abline_plot(intercept=p.Intercept - p[\"sCHOL\"], slope=p.sFRW - p[\"sCHOL:sFRW\"], ax=plt.gca(), label=\"Low CHOL\", color=\"green\")\n",
    "abline_plot(intercept=p.Intercept, slope=p.sFRW, ax=plt.gca(), label=\"Medium CHOL\",  color=\"blue\")\n",
    "abline_plot(intercept=p.Intercept + p[\"sCHOL\"], slope=p.sFRW + p[\"sCHOL:sFRW\"], ax=plt.gca(), label=\"High CHOL\", color=\"red\")\n",
    "plt.legend();\n",
    "\n"
   ]
  },
  {
   "cell_type": "markdown",
   "metadata": {},
   "source": [
    "How does the model and its accuracy look?\n",
    "\n",
    "***\n",
    "\n",
    "The model's explanatory value (R-squared 0.152) is quite low, which might be expected since we use a simple model for quite a complex problem. Besides, the CIG-variable seems to have low effect with low statisticial significance, so it could be exluded. Linear regression might not be a suitable model for this problem. Accuracy could be better estimated with cross-validation than with the statistical measures presented here.\n",
    "***"
   ]
  },
  {
   "cell_type": "markdown",
   "metadata": {},
   "source": [
    "# Logistic regression"
   ]
  },
  {
   "cell_type": "code",
   "execution_count": 29,
   "metadata": {},
   "outputs": [],
   "source": [
    "def logistic(x):\n",
    "    return 1.0 / (1.0 + np.exp(-x))"
   ]
  },
  {
   "cell_type": "markdown",
   "metadata": {},
   "source": [
    "We will continue predicting high blood pressure by taking in some continuous background variables, such as the age."
   ]
  },
  {
   "cell_type": "markdown",
   "metadata": {},
   "source": [
    "Recreate the model `HIGH_BP ~ sFRW + SEX + SEX:sFRW` presented in the introduction. Make sure, that you get the same results. Use name `fit` for the fitted model. Compute and store the error rate into variable `error_rate_orig`."
   ]
  },
  {
   "cell_type": "code",
   "execution_count": 30,
   "metadata": {},
   "outputs": [
    {
     "name": "stdout",
     "output_type": "stream",
     "text": [
      "                 Generalized Linear Model Regression Results                  \n",
      "==============================================================================\n",
      "Dep. Variable:                HIGH_BP   No. Observations:                 1394\n",
      "Model:                            GLM   Df Residuals:                     1390\n",
      "Model Family:                Binomial   Df Model:                            3\n",
      "Link Function:                  logit   Scale:                          1.0000\n",
      "Method:                          IRLS   Log-Likelihood:                -856.87\n",
      "Date:                Fri, 09 Apr 2021   Deviance:                       1713.7\n",
      "Time:                        09:51:54   Pearson chi2:                 1.39e+03\n",
      "No. Iterations:                     4                                         \n",
      "Covariance Type:            nonrobust                                         \n",
      "====================================================================================\n",
      "                       coef    std err          z      P>|z|      [0.025      0.975]\n",
      "------------------------------------------------------------------------------------\n",
      "Intercept            0.7631      0.082      9.266      0.000       0.602       0.925\n",
      "SEX[T.male]         -0.1624      0.120     -1.350      0.177      -0.398       0.073\n",
      "sFRW                 1.0738      0.176      6.095      0.000       0.728       1.419\n",
      "SEX[T.male]:sFRW     0.2709      0.287      0.943      0.346      -0.292       0.834\n",
      "====================================================================================\n"
     ]
    },
    {
     "data": {
      "text/plain": [
       "0.35581061692969873"
      ]
     },
     "execution_count": 30,
     "metadata": {},
     "output_type": "execute_result"
    }
   ],
   "source": [
    "# exercise 9\n",
    "fram[\"HIGH_BP\"] = (fram.SBP >= 140) | (fram.DBP >= 90)\n",
    "fram.HIGH_BP = fram.HIGH_BP.map(int)\n",
    "fit = smf.glm(formula=\"HIGH_BP ~ sFRW + SEX + SEX:sFRW\", data=fram, family=sm.families.Binomial()).fit()\n",
    "print(fit.summary())\n",
    "error_rate_orig = np.mean(((fit.fittedvalues < 0.5) & fram.HIGH_BP) | ((fit.fittedvalues > 0.5) & ~fram.HIGH_BP))\n",
    "error_rate_orig"
   ]
  },
  {
   "cell_type": "markdown",
   "metadata": {},
   "source": [
    "Add the `sAGE` variable and its interactions. Check the prediction accuracy of the model and compare it to the previous model. Store the prediction accuracy to variable `error_rate`."
   ]
  },
  {
   "cell_type": "code",
   "execution_count": 31,
   "metadata": {},
   "outputs": [
    {
     "name": "stdout",
     "output_type": "stream",
     "text": [
      "                 Generalized Linear Model Regression Results                  \n",
      "==============================================================================\n",
      "Dep. Variable:                HIGH_BP   No. Observations:                 1394\n",
      "Model:                            GLM   Df Residuals:                     1387\n",
      "Model Family:                Binomial   Df Model:                            6\n",
      "Link Function:                  logit   Scale:                          1.0000\n",
      "Method:                          IRLS   Log-Likelihood:                -845.51\n",
      "Date:                Fri, 09 Apr 2021   Deviance:                       1691.0\n",
      "Time:                        09:51:54   Pearson chi2:                 1.39e+03\n",
      "No. Iterations:                     4                                         \n",
      "Covariance Type:            nonrobust                                         \n",
      "====================================================================================\n",
      "                       coef    std err          z      P>|z|      [0.025      0.975]\n",
      "------------------------------------------------------------------------------------\n",
      "Intercept            0.8079      0.084      9.569      0.000       0.642       0.973\n",
      "SEX[T.male]         -0.1983      0.121     -1.632      0.103      -0.436       0.040\n",
      "sFRW                 1.0196      0.180      5.670      0.000       0.667       1.372\n",
      "SEX[T.male]:sFRW     0.3754      0.289      1.297      0.195      -0.192       0.943\n",
      "sAGE                 0.6008      0.173      3.466      0.001       0.261       0.941\n",
      "sAGE:SEX[T.male]    -0.5727      0.239     -2.392      0.017      -1.042      -0.103\n",
      "sAGE:sFRW           -0.7588      0.276     -2.750      0.006      -1.300      -0.218\n",
      "====================================================================================\n"
     ]
    },
    {
     "data": {
      "text/plain": [
       "0.3278335724533716"
      ]
     },
     "execution_count": 31,
     "metadata": {},
     "output_type": "execute_result"
    }
   ],
   "source": [
    "# exercise 10\n",
    "fit = smf.glm(formula=\"HIGH_BP ~ sFRW + SEX + SEX:sFRW + sAGE + sAGE:sFRW + sAGE:SEX\", data=fram, family=sm.families.Binomial()).fit()\n",
    "print(fit.summary())\n",
    "error_rate = np.mean(((fit.fittedvalues < 0.5) & fram.HIGH_BP) | ((fit.fittedvalues > 0.5) & ~fram.HIGH_BP))\n",
    "error_rate"
   ]
  },
  {
   "cell_type": "markdown",
   "metadata": {},
   "source": [
    "Visualize the predicted probability of high blood pressure as the function of weight. Remember to use normalized values (`rescale`) also for those variables that are not included in the visualization, so that sensible values are used for them (data average). Draw two figures with altogether six curves: young, middle aged, and old women; and young, middle aged, and old men. Use `plt.subplots`. (Plotting works in similar fashion as in the introduction. The argument factors need, however, be changed as in the example about visualisation of continuous variable.) "
   ]
  },
  {
   "cell_type": "code",
   "execution_count": 32,
   "metadata": {},
   "outputs": [
    {
     "data": {
      "text/plain": [
       "<matplotlib.legend.Legend at 0x7f171ccbcf10>"
      ]
     },
     "execution_count": 32,
     "metadata": {},
     "output_type": "execute_result"
    },
    {
     "data": {
      "image/png": "[encoded data removed]",
      "text/plain": [
       "<Figure size 720x216 with 2 Axes>"
      ]
     },
     "metadata": {
      "needs_background": "light"
     },
     "output_type": "display_data"
    }
   ],
   "source": [
    "# exercise 11\n",
    "\n",
    "def logistic(x):\n",
    "    return 1.0 / (1.0 + np.exp(-x))\n",
    "\n",
    "fig, ax = plt.subplots(1,2, subplot_kw={\"xlim\":(-2,4), \"ylim\": (0,1), \"xlabel\":\"sFRW\", \"ylabel\":\"Prob(High BP)\"}, figsize=(10,3))\n",
    "X=np.linspace(-2,4,100)\n",
    "p = fit.params\n",
    "\n",
    "ax[0].scatter(fram[fram.SEX==\"female\"].sFRW, fram[fram.SEX==\"female\"].HIGH_BP, marker=\"d\")\n",
    "ax[1].scatter(fram[fram.SEX==\"male\"].sFRW, fram[fram.SEX==\"male\"].HIGH_BP, marker=\"d\")\n",
    "ax[0].plot(X, logistic(X*(p.sFRW+p[\"sAGE:sFRW\"])+p[\"sAGE\"]+p.Intercept), color=\"green\", label=\"Old\")\n",
    "ax[0].plot(X, logistic(X*(p.sFRW)+p.Intercept), color=\"blue\", label=\"Middle\")\n",
    "ax[0].plot(X, logistic(X*(p.sFRW-p[\"sAGE:sFRW\"])-p[\"sAGE\"]+p.Intercept), color=\"red\", label=\"Young\")\n",
    "\n",
    "\n",
    "ax[1].plot(X, logistic(X*(p.sFRW+p[\"SEX[T.male]:sFRW\"]+p[\"sAGE:sFRW\"])+p[\"SEX[T.male]\"]+p[\"sAGE\"]+p.Intercept),color=\"green\", label=\"Old\")\n",
    "ax[1].plot(X, logistic(X*(p.sFRW+p[\"SEX[T.male]:sFRW\"])+p[\"SEX[T.male]\"]+p.Intercept),color=\"blue\", label=\"Middle\")\n",
    "ax[1].plot(X, logistic(X*(p.sFRW+p[\"SEX[T.male]:sFRW\"]-p[\"sAGE:sFRW\"])+p[\"SEX[T.male]\"]-p[\"sAGE\"]+p.Intercept),color=\"red\", label=\"Young\")\n",
    "\n",
    "\n",
    "ax[0].set_title(\"Female\")\n",
    "ax[1].set_title(\"Male\")\n",
    "ax[0].legend()\n",
    "ax[1].legend()"
   ]
  },
  {
   "cell_type": "code",
   "execution_count": null,
   "metadata": {},
   "outputs": [],
   "source": []
  },
  {
   "cell_type": "markdown",
   "metadata": {},
   "source": [
    "How do the models with different ages and genders differ from each other?\n",
    "\n",
    "***\n",
    "It seems that the risk of men is more affected by the weight which starts with lower and ends with higher values, i.e. women benefit less from having low weight as the risk predictor of high blood pressure. \n",
    "Otherwise, the probability distributions are very similar.\n",
    "***"
   ]
  },
  {
   "cell_type": "markdown",
   "metadata": {},
   "source": [
    "Create here a helper function `train_test_split` that gets a DataFrame as parameter and return a pair of DataFrames: one for training and the second for testing. \n",
    "The function should get parameters in the following way:\n",
    "```python\n",
    "train_test_split(df, train_fraction=0.8)\n",
    "```\n",
    "The data should be split randomly to training and testing DataFrames so that `train_fraction` fraction of data should go into the training set. Use the `sample` method of the DataFrame."
   ]
  },
  {
   "cell_type": "code",
   "execution_count": 33,
   "metadata": {},
   "outputs": [],
   "source": [
    "# exercise 12\n",
    "def train_test_split(df, train_fraction=0.8):\n",
    "    train = df.sample(frac=train_fraction)\n",
    "    test = df.drop(train.index)\n",
    "    return train, test"
   ]
  },
  {
   "cell_type": "markdown",
   "metadata": {},
   "source": [
    "Check the prediction accuracy of your model using cross validation. Use 100-fold cross validation and training_fraction 0.8."
   ]
  },
  {
   "cell_type": "code",
   "execution_count": 34,
   "metadata": {},
   "outputs": [
    {
     "name": "stdout",
     "output_type": "stream",
     "text": [
      "0.3311827956989248 0.3488530465949821\n"
     ]
    },
    {
     "data": {
      "text/plain": [
       "MannwhitneyuResult(statistic=3020.0, pvalue=1.2819846293843994e-06)"
      ]
     },
     "execution_count": 34,
     "metadata": {},
     "output_type": "execute_result"
    }
   ],
   "source": [
    "# exercise 13\n",
    "np.random.seed(1)\n",
    "error_model=[]\n",
    "error_null=[]\n",
    "for i in range(100):\n",
    "    train, test = train_test_split(fram, train_fraction=0.8)\n",
    "    fit = smf.glm(formula=\"HIGH_BP ~ sFRW + SEX + SEX:sFRW + sAGE + sAGE:sFRW + sAGE:SEX\", data=train, family=sm.families.Binomial()).fit()\n",
    "    pred = fit.predict(test)\n",
    "    error_model.append(np.mean(((pred < 0.5) & (test.HIGH_BP==1)) |\n",
    "                 ((pred > 0.5) & (test.HIGH_BP==0))))\n",
    "    error_null.append((1 - test.HIGH_BP).mean())\n",
    "print(pd.Series(error_model).mean(), pd.Series(error_null).mean())\n",
    "statsmodels.stats.stattools.stats.mannwhitneyu(error_model, error_null, alternative=\"two-sided\")"
   ]
  },
  {
   "cell_type": "markdown",
   "metadata": {},
   "source": [
    "## Predicting coronary heart disease\n",
    "\n",
    "Let us use again the same data to learn a model for the occurrence of coronary heart disease. We will use logistic regression to predict whether a patient *sometimes* shows symptoms of coronary heart disease. For this, add to the data a binary variable `hasCHD`, that describes the event (`CHD > 0`). The binary variable `hadCHD` can get only two values: 0 or 1. As a sanity check, compute the mean of this variable, which tells the number of positive cases."
   ]
  },
  {
   "cell_type": "code",
   "execution_count": 35,
   "metadata": {},
   "outputs": [
    {
     "data": {
      "text/plain": [
       "0.22022955523672882"
      ]
     },
     "execution_count": 35,
     "metadata": {},
     "output_type": "execute_result"
    }
   ],
   "source": [
    "# exercise 14\n",
    "fram[\"hasCHD\"] = fram[\"CHD\"] > 0\n",
    "fram[\"hasCHD\"] = fram[\"hasCHD\"].map(int)\n",
    "fram[\"hasCHD\"].mean()"
   ]
  },
  {
   "cell_type": "markdown",
   "metadata": {},
   "source": [
    "Next, form a logistic regression model for variable `hasCHD` by using variables sCHOL, sCIG, and sFRW, and their interactions as explanatory variables. Store the fitted model to variable `fit`. Compute the prediction accuracy of the model, store it to variable `error_rate`."
   ]
  },
  {
   "cell_type": "code",
   "execution_count": 36,
   "metadata": {},
   "outputs": [
    {
     "name": "stdout",
     "output_type": "stream",
     "text": [
      "                 Generalized Linear Model Regression Results                  \n",
      "==============================================================================\n",
      "Dep. Variable:                 hasCHD   No. Observations:                 1394\n",
      "Model:                            GLM   Df Residuals:                     1387\n",
      "Model Family:                Binomial   Df Model:                            6\n",
      "Link Function:                  logit   Scale:                          1.0000\n",
      "Method:                          IRLS   Log-Likelihood:                -721.19\n",
      "Date:                Fri, 09 Apr 2021   Deviance:                       1442.4\n",
      "Time:                        09:52:01   Pearson chi2:                 1.39e+03\n",
      "No. Iterations:                     4                                         \n",
      "Covariance Type:            nonrobust                                         \n",
      "==============================================================================\n",
      "                 coef    std err          z      P>|z|      [0.025      0.975]\n",
      "------------------------------------------------------------------------------\n",
      "Intercept     -1.2888      0.067    -19.101      0.000      -1.421      -1.157\n",
      "sCHOL          0.3324      0.130      2.554      0.011       0.077       0.587\n",
      "sCIG           0.4613      0.126      3.666      0.000       0.215       0.708\n",
      "sCHOL:sCIG    -0.1022      0.273     -0.374      0.708      -0.637       0.433\n",
      "sFRW           0.4404      0.130      3.386      0.001       0.185       0.695\n",
      "sFRW:sCHOL     0.1359      0.239      0.568      0.570      -0.333       0.604\n",
      "sFRW:sCIG      0.1646      0.258      0.637      0.524      -0.342       0.671\n",
      "==============================================================================\n",
      "0.22022955523672882\n"
     ]
    }
   ],
   "source": [
    "# exercise 15\n",
    "error_rates = []\n",
    "fit = \"\"\n",
    "def train_test_split(df, train_fraction=0.8):\n",
    "    train = df.sample(frac=train_fraction)\n",
    "    test = df.drop(train.index)\n",
    "    return train, test\n",
    "\n",
    "\n",
    "fit = smf.glm(formula=\"hasCHD ~ sCHOL + sCIG + sCHOL:sCIG + sFRW + sFRW:sCHOL + sFRW:sCIG\", data=fram,\n",
    "              family=sm.families.Binomial()).fit()\n",
    "pred = fit.predict(fram)\n",
    "error_rates.append(np.mean(((pred < 0.5) & (fram.hasCHD==1)) |\n",
    "                      ((pred > 0.5) & (fram.hasCHD==0))))\n",
    "\n",
    "error_rate = pd.Series(error_rates).mean()\n",
    "print(fit.summary())\n",
    "print(error_rate)"
   ]
  },
  {
   "cell_type": "markdown",
   "metadata": {},
   "source": [
    "Visualize the model by using the most important explanator on the x axis. Visualize both the points (with `plt.scatter`)\n",
    "and the logistic curve (with `plt.plot`)."
   ]
  },
  {
   "cell_type": "code",
   "execution_count": 37,
   "metadata": {},
   "outputs": [
    {
     "data": {
      "text/plain": [
       "<matplotlib.legend.Legend at 0x7f171cbf43d0>"
      ]
     },
     "execution_count": 37,
     "metadata": {},
     "output_type": "execute_result"
    },
    {
     "data": {
      "image/png": "[encoded data removed]",
      "text/plain": [
       "<Figure size 432x288 with 1 Axes>"
      ]
     },
     "metadata": {
      "needs_background": "light"
     },
     "output_type": "display_data"
    }
   ],
   "source": [
    "# exercise 16\n",
    "def logistic(x):\n",
    "    return 1.0 / (1.0 + np.exp(-x))\n",
    "\n",
    "plt.scatter(fram.sCIG, fram.hasCHD, marker=\"d\", label=\"hasCHD\")\n",
    "X = np.linspace(-0.5, 2.5, 100)\n",
    "plt.plot(X, logistic(X*fit.params.sCIG + fit.params.Intercept), label=\"smoking\")\n",
    "plt.xlabel(\"sCIG\")\n",
    "plt.ylabel(\"hasCHD\")\n",
    "plt.legend()"
   ]
  },
  {
   "cell_type": "markdown",
   "metadata": {},
   "source": [
    "Is the prediction accuracy of the model good or bad? Can we expect to have practical use of the model?\n",
    "***\n",
    "As the error rate is around 22% and a random guess would be correct roughly 50% of the time, the model is quite good but not perfect. We could use it to give patients an early warning if they are approaching to CHD in future. We can use this model to alert them in advance.\n",
    "***"
   ]
  },
  {
   "cell_type": "markdown",
   "metadata": {},
   "source": [
    "If a person has cholestherol 200, smokes 17 cigarets per day, and has weight 100, then what is the probability that he/she sometimes shows signs of coronal hear disease? Note that the model expects normalized values. Store the normalized values to dictionary called `point`. Store the probability in variable `predicted`."
   ]
  },
  {
   "cell_type": "code",
   "execution_count": 38,
   "metadata": {},
   "outputs": [
    {
     "name": "stdout",
     "output_type": "stream",
     "text": [
      "0.2161616602504101\n"
     ]
    }
   ],
   "source": [
    "# exercise 17\n",
    "point = {}\n",
    "point[\"sCIG\"] = (17 - fram.CIG.mean()) / (fram.CIG.std()*2)\n",
    "point[\"sCHOL\"] = (200 - fram.CHOL.mean()) / (fram.CHOL.std()*2)\n",
    "point[\"sFRW\"] = (100 - fram.FRW.mean()) / (fram.FRW.std()*2)\n",
    "predicted = float(fit.predict(point)[0])\n",
    "print(predicted)"
   ]
  },
  {
   "cell_type": "code",
   "execution_count": null,
   "metadata": {},
   "outputs": [],
   "source": []
  }
 ],
 "metadata": {
  "kernelspec": {
   "display_name": "Python 3",
   "language": "python",
   "name": "python3"
  },
  "language_info": {
   "codemirror_mode": {
    "name": "ipython",
    "version": 3
   },
   "file_extension": ".py",
   "mimetype": "text/x-python",
   "name": "python",
   "nbconvert_exporter": "python",
   "pygments_lexer": "ipython3",
   "version": "3.7.4"
  }
 },
 "nbformat": 4,
 "nbformat_minor": 2
}
